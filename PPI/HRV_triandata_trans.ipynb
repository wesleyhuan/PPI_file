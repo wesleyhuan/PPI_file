{
 "cells": [
  {
   "cell_type": "code",
   "execution_count": 14,
   "metadata": {
    "collapsed": true
   },
   "outputs": [],
   "source": [
    "import _pickle as cPickle\n"
   ]
  },
  {
   "cell_type": "code",
   "execution_count": 19,
   "metadata": {},
   "outputs": [
    {
     "name": "stdout",
     "output_type": "stream",
     "text": [
      "{'HRVmatrix': [1, 2, 3], 'asthmalabel': ['attack']}\n"
     ]
    }
   ],
   "source": [
    "obj = {'HRVmatrix':[1 , 2 , 3],'asthmalabel': ['attack'] } \n",
    "print (obj)"
   ]
  },
  {
   "cell_type": "code",
   "execution_count": 20,
   "metadata": {
    "scrolled": false
   },
   "outputs": [
    {
     "name": "stdout",
     "output_type": "stream",
     "text": [
      "{'HRVmatrix': [1, 2, 3], 'asthmalabel': ['attack']}\n"
     ]
    }
   ],
   "source": [
    "#r 读写权限 r b 读写到二进制文件\n",
    "f = open(r\"D:\\a.txt\",\"wb\")\n",
    "cPickle.dump(obj,f)\n",
    "f.close()\n",
    "f = open(r\"D:\\a.txt\",\"rb\")\n",
    "print (cPickle.load(f))\n",
    "#输出：(123, 'abcdedf', ['ac', 123], {'key1': 'value1', 'key': 'value'})\n",
    " "
   ]
  },
  {
   "cell_type": "code",
   "execution_count": 21,
   "metadata": {},
   "outputs": [
    {
     "name": "stdout",
     "output_type": "stream",
     "text": [
      "<class 'bytes'>\n",
      "b'\\x80\\x03}q\\x00(X\\t\\x00\\x00\\x00HRVmatrixq\\x01]q\\x02(K\\x01K\\x02K\\x03eX\\x0b\\x00\\x00\\x00asthmalabelq\\x03]q\\x04X\\x06\\x00\\x00\\x00attackq\\x05au.'\n",
      "<class 'dict'>\n",
      "[1, 2, 3]\n",
      "['attack']\n"
     ]
    }
   ],
   "source": [
    "#序列化到内存（字符串格式保存），然后对象可以以任何方式处理如通过网络传输\n",
    "obj1 = cPickle.dumps(obj)\n",
    "print (type(obj1))\n",
    "print (obj1)\n",
    "\n",
    "#输出：python专用的存储格式\n",
    "obj2 = cPickle.loads(obj1)\n",
    "print (type(obj2))\n",
    "print (obj2['HRVmatrix'])\n",
    "print (obj2['asthmalabel'])"
   ]
  },
  {
   "cell_type": "code",
   "execution_count": null,
   "metadata": {
    "collapsed": true
   },
   "outputs": [],
   "source": [
    "import numpy as np\n",
    "class MapMinMaxApplier(object):\n",
    "    def __init__(self, slope, intercept):\n",
    "        self.slope = slope\n",
    "        self.intercept = intercept\n",
    "    def __call__(self, x):\n",
    "        return x * self.slope + self.intercept\n",
    "    def reverse(self, y):\n",
    "        return (y-self.intercept) / self.slope\n",
    " \n",
    "def mapminmax(x, ymin=-1, ymax=+1):\n",
    "\tx = np.asanyarray(x)\n",
    "\txmax = x.max(axis=-1)\n",
    "\txmin = x.min(axis=-1)\n",
    "\tif (xmax==xmin).any():\n",
    "\t\traise ValueError(\"some rows have no variation\")\n",
    "\tslope = ((ymax-ymin) / (xmax - xmin))[:,np.newaxis]\n",
    "\tintercept = (-xmin*(ymax-ymin)/(xmax-xmin))[:,np.newaxis] + ymin\n",
    "\tps = MapMinMaxApplier(slope, intercept)\n",
    "\treturn ps(x), ps\n",
    "\n",
    "test_x=([1,2,3,4,5,6,7,8,9,10,11,12,13,14,15,16,17,18])\n",
    "test_x=np.array(test_x)\n",
    "test_x = test_x.reshape(3,6)\n",
    "print(test_x)\n",
    "\n",
    "ab,ps1=mapminmax(test_x); #默认为-1,1\n",
    "print(ab)\n",
    "#print(ps1)\n",
    "ab = ab.reshape(3,2,3)\n",
    "print(ab)"
   ]
  }
 ],
 "metadata": {
  "kernelspec": {
   "display_name": "Python 3",
   "language": "python",
   "name": "python3"
  },
  "language_info": {
   "codemirror_mode": {
    "name": "ipython",
    "version": 3
   },
   "file_extension": ".py",
   "mimetype": "text/x-python",
   "name": "python",
   "nbconvert_exporter": "python",
   "pygments_lexer": "ipython3",
   "version": "3.6.2"
  }
 },
 "nbformat": 4,
 "nbformat_minor": 2
}
